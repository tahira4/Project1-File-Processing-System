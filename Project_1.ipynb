{
  "nbformat": 4,
  "nbformat_minor": 0,
  "metadata": {
    "colab": {
      "provenance": [],
      "authorship_tag": "ABX9TyOqTII1ePCXWWP4To4KvEAg",
      "include_colab_link": true
    },
    "kernelspec": {
      "name": "python3",
      "display_name": "Python 3"
    },
    "language_info": {
      "name": "python"
    }
  },
  "cells": [
    {
      "cell_type": "markdown",
      "metadata": {
        "id": "view-in-github",
        "colab_type": "text"
      },
      "source": [
        "<a href=\"https://colab.research.google.com/github/tahira4/Project1-File-Processing-System/blob/main/Project_1.ipynb\" target=\"_parent\"><img src=\"https://colab.research.google.com/assets/colab-badge.svg\" alt=\"Open In Colab\"/></a>"
      ]
    },
    {
      "cell_type": "code",
      "source": [
        "from google.colab import drive\n",
        "drive.mount('/content/drive')\n"
      ],
      "metadata": {
        "colab": {
          "base_uri": "https://localhost:8080/"
        },
        "id": "OGOrIyb6Lion",
        "outputId": "ad70e932-7e5b-4261-a3bf-877373dc71e3"
      },
      "execution_count": null,
      "outputs": [
        {
          "output_type": "stream",
          "name": "stdout",
          "text": [
            "Mounted at /content/drive\n"
          ]
        }
      ]
    },
    {
      "cell_type": "code",
      "source": [
        "%%writefile word_cou12.c\n",
        "#include <stdio.h>\n",
        "#include <stdlib.h>\n",
        "#include <string.h>\n",
        "#include <pthread.h>\n",
        "#include <time.h> // Include for timing\n",
        "#include <unistd.h> // Include for usleep\n",
        "#include <sys/wait.h> // Include for wait\n",
        "#include <sys/types.h> // Include for fork\n",
        "#include <sys/ipc.h> // Include for shared memory\n",
        "#include <sys/shm.h> // Include for shared memory\n",
        "\n",
        "#define MAX_FILES 9\n",
        "#define MAX_THREADS 9\n",
        "\n",
        "const char *files[MAX_FILES] = {\n",
        "    \"/content/drive/MyDrive/Colab Notebooks/calgary/paper1\",\n",
        "    \"/content/drive/MyDrive/Colab Notebooks/calgary/paper2\",\n",
        "    \"/content/drive/MyDrive/Colab Notebooks/calgary/trans\",\n",
        "    \"/content/drive/MyDrive/Colab Notebooks/calgary/obj1\",\n",
        "    \"/content/drive/MyDrive/Colab Notebooks/calgary/progp\",\n",
        "    \"/content/drive/MyDrive/Colab Notebooks/calgary/progl\",\n",
        "    \"/content/drive/MyDrive/Colab Notebooks/calgary/bib\",\n",
        "    \"/content/drive/MyDrive/Colab Notebooks/calgary/progc\",\n",
        "    \"/content/drive/MyDrive/Colab Notebooks/calgary/geo\"\n",
        "    // Ensure all paths are valid\n",
        "};\n",
        "\n",
        "typedef struct {\n",
        "    const char *filename;\n",
        "    const char *word;\n",
        "    int count;\n",
        "} WordCount;\n",
        "\n",
        "// 1. Function that counts the occurrences of a word in a file using multiple threads\n",
        "void *count_word_in_file(void *arg) {\n",
        "    WordCount *wc = (WordCount *)arg;\n",
        "    FILE *file = fopen(wc->filename, \"r\");\n",
        "\n",
        "    if (!file) {\n",
        "        fprintf(stderr, \"Error opening file: %s\\n\", wc->filename);\n",
        "        wc->count = 0;  // Set count to 0 if file can't be opened\n",
        "        return NULL;\n",
        "    }\n",
        "\n",
        "    char buffer[1024];\n",
        "    wc->count = 0;\n",
        "\n",
        "    // Count occurrences of the word\n",
        "    while (fgets(buffer, sizeof(buffer), file)) {\n",
        "        char *ptr = buffer;\n",
        "        while ((ptr = strstr(ptr, wc->word)) != NULL) {\n",
        "            wc->count++;\n",
        "            ptr += strlen(wc->word);\n",
        "        }\n",
        "    }\n",
        "\n",
        "    fclose(file);\n",
        "    return NULL;\n",
        "}\n",
        "\n",
        "// 2. Processing a file using multiple threads\n",
        "void process_files_with_threads(const char *word, const char *filename) {\n",
        "    pthread_t threads[MAX_THREADS];\n",
        "    WordCount wc[MAX_THREADS];\n",
        "    int total_count = 0;\n",
        "\n",
        "    for (int i = 0; i < MAX_THREADS; i++) {\n",
        "        wc[i].filename = filename;\n",
        "        wc[i].word = word;\n",
        "        wc[i].count = 0;\n",
        "\n",
        "        pthread_create(&threads[i], NULL, count_word_in_file, &wc[i]);\n",
        "    }\n",
        "\n",
        "    for (int i = 0; i < MAX_THREADS; i++) {\n",
        "        pthread_join(threads[i], NULL);\n",
        "        total_count += wc[i].count;\n",
        "    }\n",
        "\n",
        "    printf(\"File: %s, Total count of '%s': %d\\n\", filename, word, total_count);\n",
        "}\n",
        "\n",
        "// 3. Measure the performance of the function\n",
        "void measure_performance(void (*func)(const char *, const char *), const char *word, const char *filename, const char *mode) {\n",
        "    clock_t start_time = clock();\n",
        "\n",
        "    func(word, filename);\n",
        "\n",
        "    clock_t end_time = clock();\n",
        "    double time_taken = (double)(end_time - start_time) / CLOCKS_PER_SEC;\n",
        "    printf(\"Mode: %s, Time: %f seconds\\n\", mode, time_taken);\n",
        "}\n",
        "// Key features 3: Shared memory\n",
        "// 4. Process creation and multithreading\n",
        "void create_process_and_count(const char *word) {\n",
        "    int shmid;\n",
        "    key_t key = 1234;\n",
        "    int *shared_memory;\n",
        "    size_t size = sizeof(int);\n",
        "\n",
        "    // 5. Set up shared memory for IPC\n",
        "    if ((shmid = shmget(key, size, IPC_CREAT | 0666)) < 0) {\n",
        "        perror(\"shmget\");\n",
        "        exit(1);\n",
        "    }\n",
        "    if ((shared_memory = shmat(shmid, NULL, 0)) == (int *)-1) {\n",
        "        perror(\"shmat\");\n",
        "        exit(1);\n",
        "    }\n",
        "\n",
        "    for (int i = 0; i < MAX_FILES; i++) {\n",
        "        pid_t pid = fork();  // Create a new process for each file\n",
        "\n",
        "        if (pid < 0) {\n",
        "            perror(\"fork\");\n",
        "            exit(1);\n",
        "        }\n",
        "        // Key features 1: Forking\n",
        "        // Key features 2: Multithreading\n",
        "\n",
        "        // Process creation: Each child process should be responsible for one file.\n",
        "        if (pid == 0) {  // Child process\n",
        "            printf(\"Child process for file: %s\\n\", files[i]);\n",
        "\n",
        "            // Perform word counting using threads\n",
        "            process_files_with_threads(word, files[i]);\n",
        "\n",
        "            // 6. Write results to shared memory\n",
        "            *shared_memory = wc[i].count;\n",
        "\n",
        "            exit(0);\n",
        "        }\n",
        "    }\n",
        "\n",
        "    // 7. Parent process waits for all children\n",
        "    for (int i = 0; i < MAX_FILES; i++) {\n",
        "        wait(NULL);\n",
        "    }\n",
        "\n",
        "    // 8. Read and print word count from shared memory\n",
        "    printf(\"Total word count (from shared memory): %d\\n\", *shared_memory);\n",
        "\n",
        "    // Detach and remove shared memory\n",
        "    shmdt(shared_memory);\n",
        "    shmctl(shmid, IPC_RMID, NULL);\n",
        "}\n",
        "\n",
        "int main() {\n",
        "    const char *word = \"the\";  // Word to search for\n",
        "\n",
        "    // 9. Measure the performance for multiprocessing\n",
        "    printf(\"=== Multiprocessing with Multithreading ===\\n\");\n",
        "    measure_performance(create_process_and_count, word, \"Multiprocessing with Multithreading\");\n",
        "\n",
        "    return 0;\n",
        "}\n"
      ],
      "metadata": {
        "colab": {
          "base_uri": "https://localhost:8080/"
        },
        "id": "JkaaWG5br9k3",
        "outputId": "1a29c9d3-7e7f-4f06-aaa6-9eed5fe30f6f"
      },
      "execution_count": null,
      "outputs": [
        {
          "output_type": "stream",
          "name": "stdout",
          "text": [
            "Overwriting word_cou12.c\n"
          ]
        }
      ]
    },
    {
      "cell_type": "markdown",
      "source": [
        "# New Section"
      ],
      "metadata": {
        "id": "Z-FVmo25okfA"
      }
    },
    {
      "cell_type": "code",
      "source": [
        "# prompt: gcc %%writefile word_cou12.c\n",
        "\n",
        "!gcc word_cou12.c -o word_cou12 -lpthread\n"
      ],
      "metadata": {
        "id": "Mrxr511Hr9hR"
      },
      "execution_count": null,
      "outputs": []
    },
    {
      "cell_type": "code",
      "source": [
        "!./word_cou12 \"/content/drive/MyDrive/Colab Notebooks/calgary\""
      ],
      "metadata": {
        "colab": {
          "base_uri": "https://localhost:8080/"
        },
        "id": "LrRFYlQqr9T5",
        "outputId": "2dc937b9-6890-475b-c6b6-01708aad055c"
      },
      "execution_count": null,
      "outputs": [
        {
          "output_type": "stream",
          "name": "stdout",
          "text": [
            "File: /content/drive/MyDrive/Colab Notebooks/calgary/paper1, Word: 'and', Count: 155\n",
            "File: /content/drive/MyDrive/Colab Notebooks/calgary/paper2, Word: 'and', Count: 224\n",
            "File: /content/drive/MyDrive/Colab Notebooks/calgary/trans, Word: 'and', Count: 254\n",
            "File: /content/drive/MyDrive/Colab Notebooks/calgary/obj1, Word: 'and', Count: 0\n",
            "File: /content/drive/MyDrive/Colab Notebooks/calgary/progp, Word: 'and', Count: 103\n",
            "File: /content/drive/MyDrive/Colab Notebooks/calgary/progl, Word: 'and', Count: 60\n",
            "File: /content/drive/MyDrive/Colab Notebooks/calgary/bib, Word: 'and', Count: 383\n",
            "File: /content/drive/MyDrive/Colab Notebooks/calgary/progc, Word: 'and', Count: 33\n",
            "File: /content/drive/MyDrive/Colab Notebooks/calgary/geo, Word: 'and', Count: 0\n",
            "Total word count across files: 1212\n",
            "Mode: Multithreading, Time: 0.004459 seconds\n"
          ]
        }
      ]
    },
    {
      "cell_type": "code",
      "source": [],
      "metadata": {
        "id": "LkZZo9cir9Hu"
      },
      "execution_count": null,
      "outputs": []
    },
    {
      "cell_type": "code",
      "source": [
        "%%writefile word_count.c\n",
        "#include <stdio.h>\n",
        "#include <stdlib.h>\n",
        "#include <string.h>\n",
        "#include <pthread.h>\n",
        "#include <dirent.h>\n",
        "#include <sys/types.h>\n",
        "#include <sys/wait.h>\n",
        "#include <unistd.h>\n",
        "#define MAX_THREADS 4\n",
        "#define MAX_WORD_LENGTH 100\n",
        "// List of files to process\n",
        "char *files[] = {\"bib\", \"paper1\", \"paper2\", \"trans\", \"progp\", \"progl\", \"progc\"};\n",
        "char *file_paths[] = {\n",
        "    \"Project1-File-processing-system/calgary/bib\",\n",
        "    \"Project1-File-processing-system/calgary/paper1\",\n",
        "    \"Project1-File-processing-system/calgary/paper2\",\n",
        "    \"Project1-File-processing-system/calgary/trans\",\n",
        "    \"Project1-File-processing-system/calgary/progp\",\n",
        "    \"Project1-File-processing-system/calgary/progl\",\n",
        "    \"Project1-File-processing-system/calgary/progc\"\n",
        "};\n",
        "\n",
        "// Struct to pass data to threads\n",
        "typedef struct {\n",
        "    char *file_path;\n",
        "    char *word;\n",
        "    int word_count;\n",
        "} thread_data_t;\n",
        "\n",
        "void *count_word(void *arg) {\n",
        "    thread_data_t *data = (thread_data_t *)arg;\n",
        "    FILE *file = fopen(data->file_path, \"r\");\n",
        "    if (file == NULL) {\n",
        "        printf(\"Error opening file: %s\\n\", data->file_path);\n",
        "        return NULL;\n",
        "    }\n",
        "\n",
        "    char word[MAX_WORD_LENGTH];\n",
        "    while (fscanf(file, \"%s\", word) != EOF) {\n",
        "        if (strcmp(word, data->word) == 0) {\n",
        "            data->word_count++;\n",
        "        }\n",
        "    }\n",
        "\n",
        "    fclose(file);\n",
        "    return NULL;\n",
        "}\n",
        "\n",
        "int main(int argc, char *argv[]) {\n",
        "    if (argc != 2) {\n",
        "        fprintf(stderr, \"Usage: %s <word_to_search>\\n\", argv[0]);\n",
        "        return 1;\n",
        "    }\n",
        "\n",
        "    char *word_to_search = argv[1];\n",
        "    pthread_t threads[MAX_THREADS];\n",
        "    thread_data_t thread_data[MAX_THREADS];\n",
        "\n",
        "    int num_files = sizeof(files) / sizeof(files[0]);\n",
        "\n",
        "    for (int i = 0; i < num_files; i++) {\n",
        "        printf(\"Processing file: %s\\n\", files[i]);\n",
        "\n",
        "        // Create thread data\n",
        "        for (int j = 0; j < MAX_THREADS; j++) {\n",
        "            thread_data[j].file_path = file_paths[i];\n",
        "            thread_data[j].word = word_to_search;\n",
        "            thread_data[j].word_count = 0;\n",
        "\n",
        "            if (pthread_create(&threads[j], NULL, count_word, &thread_data[j]) != 0) {\n",
        "                perror(\"Failed to create thread\");\n",
        "                return 1;\n",
        "            }\n",
        "        }\n",
        "\n",
        "        // Join threads\n",
        "        for (int j = 0; j < MAX_THREADS; j++) {\n",
        "            pthread_join(threads[j], NULL);\n",
        "        }\n",
        "\n",
        "        // Sum up word counts from all threads\n",
        "        int total_count = 0;\n",
        "        for (int j = 0; j < MAX_THREADS; j++) {\n",
        "            total_count += thread_data[j].word_count;\n",
        "        }\n",
        "\n",
        "        printf(\"File: %s, Word: '%s', Count: %d\\n\", files[i], word_to_search, total_count);\n",
        "    }\n",
        "\n",
        "    return 0;\n",
        "}\n"
      ],
      "metadata": {
        "id": "FA7Jc2-Xr80d",
        "colab": {
          "base_uri": "https://localhost:8080/"
        },
        "outputId": "02c1de8c-7504-4de8-9c81-dc2b3c07aff0"
      },
      "execution_count": null,
      "outputs": [
        {
          "output_type": "stream",
          "name": "stdout",
          "text": [
            "Overwriting word_count.c\n"
          ]
        }
      ]
    },
    {
      "cell_type": "code",
      "source": [
        "!gcc -pthread -o word_count word_count.c\n"
      ],
      "metadata": {
        "id": "IUUz486xzEF5"
      },
      "execution_count": null,
      "outputs": []
    },
    {
      "cell_type": "code",
      "source": [
        "!./word_count \"your_search_word\"\n"
      ],
      "metadata": {
        "colab": {
          "base_uri": "https://localhost:8080/"
        },
        "id": "aCAFa1Vuz7_-",
        "outputId": "7033f8e5-effb-49bc-8653-d552ab38bdba"
      },
      "execution_count": null,
      "outputs": [
        {
          "output_type": "stream",
          "name": "stdout",
          "text": [
            "Processing file: bib\n",
            "Error opening file: Project1-File-processing-system/calgary/bib\n",
            "Error opening file: Project1-File-processing-system/calgary/bib\n",
            "Error opening file: Project1-File-processing-system/calgary/bib\n",
            "Error opening file: Project1-File-processing-system/calgary/bib\n",
            "File: bib, Word: 'your_search_word', Count: 0\n",
            "Processing file: paper1\n",
            "Error opening file: Project1-File-processing-system/calgary/paper1\n",
            "Error opening file: Project1-File-processing-system/calgary/paper1\n",
            "Error opening file: Project1-File-processing-system/calgary/paper1\n",
            "Error opening file: Project1-File-processing-system/calgary/paper1\n",
            "File: paper1, Word: 'your_search_word', Count: 0\n",
            "Processing file: paper2\n",
            "Error opening file: Project1-File-processing-system/calgary/paper2\n",
            "Error opening file: Project1-File-processing-system/calgary/paper2\n",
            "Error opening file: Project1-File-processing-system/calgary/paper2\n",
            "Error opening file: Project1-File-processing-system/calgary/paper2\n",
            "File: paper2, Word: 'your_search_word', Count: 0\n",
            "Processing file: trans\n",
            "Error opening file: Project1-File-processing-system/calgary/trans\n",
            "Error opening file: Project1-File-processing-system/calgary/trans\n",
            "Error opening file: Project1-File-processing-system/calgary/trans\n",
            "Error opening file: Project1-File-processing-system/calgary/trans\n",
            "File: trans, Word: 'your_search_word', Count: 0\n",
            "Processing file: progp\n",
            "Error opening file: Project1-File-processing-system/calgary/progp\n",
            "Error opening file: Project1-File-processing-system/calgary/progp\n",
            "Error opening file: Project1-File-processing-system/calgary/progp\n",
            "Error opening file: Project1-File-processing-system/calgary/progp\n",
            "File: progp, Word: 'your_search_word', Count: 0\n",
            "Processing file: progl\n",
            "Error opening file: Project1-File-processing-system/calgary/progl\n",
            "Error opening file: Project1-File-processing-system/calgary/progl\n",
            "Error opening file: Project1-File-processing-system/calgary/progl\n",
            "Error opening file: Project1-File-processing-system/calgary/progl\n",
            "File: progl, Word: 'your_search_word', Count: 0\n",
            "Processing file: progc\n",
            "Error opening file: Project1-File-processing-system/calgary/progc\n",
            "Error opening file: Project1-File-processing-system/calgary/progc\n",
            "Error opening file: Project1-File-processing-system/calgary/progc\n",
            "Error opening file: Project1-File-processing-system/calgary/progc\n",
            "File: progc, Word: 'your_search_word', Count: 0\n"
          ]
        }
      ]
    }
  ]
}